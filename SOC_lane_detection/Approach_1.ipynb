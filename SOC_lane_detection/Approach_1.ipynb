{
 "cells": [
  {
   "cell_type": "code",
   "execution_count": 1,
   "metadata": {},
   "outputs": [
    {
     "name": "stdout",
     "output_type": "stream",
     "text": [
      "[[[179 179 179]\n",
      "  [178 178 178]\n",
      "  [178 178 178]\n",
      "  ...\n",
      "  [178 178 178]\n",
      "  [178 178 178]\n",
      "  [178 178 178]]\n",
      "\n",
      " [[179 179 179]\n",
      "  [178 178 178]\n",
      "  [178 178 178]\n",
      "  ...\n",
      "  [178 178 178]\n",
      "  [178 178 178]\n",
      "  [178 178 178]]\n",
      "\n",
      " [[179 179 179]\n",
      "  [178 178 178]\n",
      "  [178 178 178]\n",
      "  ...\n",
      "  [178 178 178]\n",
      "  [178 178 178]\n",
      "  [178 178 178]]\n",
      "\n",
      " ...\n",
      "\n",
      " [[151 151 151]\n",
      "  [135 135 135]\n",
      "  [168 168 168]\n",
      "  ...\n",
      "  [147 147 147]\n",
      "  [167 167 167]\n",
      "  [151 151 151]]\n",
      "\n",
      " [[128 128 128]\n",
      "  [119 119 119]\n",
      "  [134 134 134]\n",
      "  ...\n",
      "  [184 184 184]\n",
      "  [148 148 148]\n",
      "  [125 125 125]]\n",
      "\n",
      " [[131 131 131]\n",
      "  [105 105 105]\n",
      "  [140 140 140]\n",
      "  ...\n",
      "  [204 204 204]\n",
      "  [176 176 176]\n",
      "  [123 123 123]]]\n"
     ]
    },
    {
     "name": "stderr",
     "output_type": "stream",
     "text": [
      "qt.qpa.plugin: Could not find the Qt platform plugin \"wayland\" in \"/home/yashjonjale/.local/lib/python3.10/site-packages/cv2/qt/plugins\"\n"
     ]
    }
   ],
   "source": [
    "import cv2\n",
    "import numpy as np\n",
    "from matplotlib import pyplot as plt\n",
    "\n",
    "img = cv2.imread(\"/media/yashjonjale/Elements/My_workspace/SOC_lane_detection/input_images/in_img1.jpg\")\n",
    "print(img)\n",
    "cv2.imshow(\"img1\",img)\n"
   ]
  }
 ],
 "metadata": {
  "kernelspec": {
   "display_name": "base",
   "language": "python",
   "name": "python3"
  },
  "language_info": {
   "codemirror_mode": {
    "name": "ipython",
    "version": 3
   },
   "file_extension": ".py",
   "mimetype": "text/x-python",
   "name": "python",
   "nbconvert_exporter": "python",
   "pygments_lexer": "ipython3",
   "version": "3.10.6"
  },
  "orig_nbformat": 4
 },
 "nbformat": 4,
 "nbformat_minor": 2
}
